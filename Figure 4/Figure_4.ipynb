{
 "cells": [
  {
   "cell_type": "code",
   "execution_count": 4,
   "metadata": {
    "collapsed": true
   },
   "outputs": [],
   "source": [
    "import numpy as np\n",
    "import matplotlib.pyplot as plt\n",
    "%matplotlib inline\n",
    "import scipy as sp\n",
    "import csv\n",
    "import matplotlib.patches as mpatches\n",
    "import pylab as pb\n",
    "import matplotlib.ticker as mtick"
   ]
  },
  {
   "cell_type": "code",
   "execution_count": 5,
   "metadata": {
    "collapsed": true
   },
   "outputs": [],
   "source": [
    "f1 = []\n",
    "f2 = []\n",
    "\n",
    "\n",
    "\n",
    "\n",
    "\n",
    "with open('fit_of_6s.txt','r') as csvfile:\n",
    "    plots = csv.reader(csvfile, delimiter='\\t')\n",
    "    for row in plots:\n",
    "        f1.append(float(row[0]))\n",
    "        f2.append(float(row[1]))\n",
    "       \n",
    "      \n",
    "       \n",
    "    \n",
    "     "
   ]
  },
  {
   "cell_type": "code",
   "execution_count": null,
   "metadata": {
    "collapsed": true
   },
   "outputs": [],
   "source": [
    "a1 = []\n",
    "b1 = []\n",
    "\n",
    "\n",
    "\n",
    "\n",
    "\n",
    "with open('voids_at_6s.txt','r') as csvfile:\n",
    "    plots = csv.reader(csvfile, delimiter='\\t')\n",
    "    for row in plots:\n",
    "        a1.append(float(row[0]))\n",
    "        b1.append(float(row[1]))\n",
    "       \n",
    "      \n",
    "       \n",
    "    \n",
    "     "
   ]
  },
  {
   "cell_type": "code",
   "execution_count": null,
   "metadata": {
    "collapsed": false
   },
   "outputs": [],
   "source": [
    "import numpy as np\n",
    "import matplotlib.pyplot as plt\n",
    "from matplotlib.ticker import NullFormatter\n",
    "\n",
    "# the random data\n",
    "#x = np.random.randn(1000)\n",
    "#y = np.random.randn(1000)\n",
    "\n",
    "nullfmt = NullFormatter()         # no labels\n",
    "\n",
    "# definitions for the axes\n",
    "left, width = 0.1, 0.65\n",
    "bottom, height = 0.1, 0.65\n",
    "bottom_h = left_h = left + width + 0.02\n",
    "\n",
    "rect_scatter = [left, bottom, width, height]\n",
    "rect_histx = [left, bottom_h, width, 0.2]\n",
    "rect_histy = [left_h, bottom, 0.2, height]\n",
    "\n",
    "# start with a rectangular Figure\n",
    "plt.figure(1, figsize=(8, 8))\n",
    "\n",
    "axScatter = plt.axes(rect_scatter)\n",
    "axHistx = plt.axes(rect_histx)\n",
    "axHisty = plt.axes(rect_histy)\n",
    "\n",
    "# no labels\n",
    "axHistx.xaxis.set_major_formatter(nullfmt)\n",
    "axHisty.yaxis.set_major_formatter(nullfmt)\n",
    "\n",
    "color = [str(item/255.) for item in b1]\n",
    "# the scatter plot:\n",
    "axScatter.scatter(b1, a1,s = 70, c = color)\n",
    "axScatter.plot(f1,f2, c = 'red', lw = 3, label = '$L = 1.72 \\cdot W; r_{Pearson} = 0.94$')\n",
    "axScatter.set_xlabel('$W$, Void width (nm)', fontsize = 14)\n",
    "axScatter.set_ylabel('$L$, Void length (nm)', fontsize = 14)\n",
    "# now determine nice limits by hand:\n",
    "binwidth = 0.5\n",
    "xymax = np.max([np.max(np.fabs(b1)), np.max(np.fabs(a1))])\n",
    "lim = (int(xymax/binwidth) + 1) * binwidth\n",
    "\n",
    "axScatter.set_xlim((0, 7))\n",
    "axScatter.set_ylim((0, 15))\n",
    "\n",
    "bins = np.arange(-lim, lim + binwidth, binwidth)\n",
    "axHistx.hist(b1, bins=bins, color = 'gold')\n",
    "axHisty.hist(a1, bins=bins, color = 'indigo',orientation='horizontal')\n",
    "\n",
    "axHistx.set_xlim(0,7)\n",
    "axHisty.set_ylim(0,15)\n",
    "\n",
    "axHisty.set_xlabel('Counts', fontsize = 14)\n",
    "axHistx.set_ylabel('Counts', fontsize = 14)\n",
    "axScatter.legend(bbox_to_anchor=(1, 0.15),labelspacing=0.01, fontsize = 15)\n",
    "plt.savefig(\"proper_holes_6s.png\",bbox_inches='tight', dpi = 300)\n",
    "plt.show()\n"
   ]
  }
 ],
 "metadata": {
  "kernelspec": {
   "display_name": "Python 3",
   "language": "python",
   "name": "python3"
  },
  "language_info": {
   "codemirror_mode": {
    "name": "ipython",
    "version": 3
   },
   "file_extension": ".py",
   "mimetype": "text/x-python",
   "name": "python",
   "nbconvert_exporter": "python",
   "pygments_lexer": "ipython3",
   "version": "3.5.1"
  }
 },
 "nbformat": 4,
 "nbformat_minor": 0
}
