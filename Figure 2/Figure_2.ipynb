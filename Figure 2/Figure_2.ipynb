{
 "cells": [
  {
   "cell_type": "code",
   "execution_count": 1,
   "metadata": {
    "collapsed": true
   },
   "outputs": [],
   "source": [
    "import numpy as np\n",
    "import matplotlib.pyplot as plt\n",
    "%matplotlib inline\n",
    "import scipy as sp\n",
    "import csv\n",
    "import matplotlib.patches as mpatches\n",
    "import pylab as pb\n",
    "import matplotlib.ticker as mtick"
   ]
  },
  {
   "cell_type": "code",
   "execution_count": 12,
   "metadata": {
    "collapsed": true
   },
   "outputs": [],
   "source": [
    "x = []\n",
    "y = []\n",
    "z = []\n",
    "a = []\n",
    "b = []\n",
    "\n",
    "\n",
    "with open('RMS_heights.txt','r') as csvfile:\n",
    "    plots = csv.reader(csvfile, delimiter='\\t')\n",
    "    for row in plots:\n",
    "        x.append(float(row[0]))\n",
    "        y.append(float(row[1]))\n",
    "        z.append(float(row[2]))\n",
    "        a.append(float(row[3]))\n",
    "        b.append(float(row[4]))\n",
    "     \n",
    "   \n",
    "     "
   ]
  },
  {
   "cell_type": "code",
   "execution_count": 3,
   "metadata": {
    "collapsed": true
   },
   "outputs": [],
   "source": [
    "x1 = []\n",
    "y1 = []\n",
    "z1 = []\n",
    "a1 = []\n",
    "b1 = []\n",
    "\n",
    "\n",
    "with open('edges.txt','r') as csvfile:\n",
    "    plots = csv.reader(csvfile, delimiter='\\t')\n",
    "    for row in plots:\n",
    "        x1.append(float(row[0]))\n",
    "        y1.append(float(row[1]))\n",
    "        z1.append(float(row[2]))\n",
    "        a1.append(float(row[3]))\n",
    "        b1.append(float(row[4]))\n",
    "       \n",
    "   \n",
    "     "
   ]
  },
  {
   "cell_type": "code",
   "execution_count": 16,
   "metadata": {
    "collapsed": false
   },
   "outputs": [
    {
     "name": "stdout",
     "output_type": "stream",
     "text": [
      "\n",
      "\n",
      "\n",
      "\n"
     ]
    },
    {
     "data": {
      "image/png": "[encoded data removed]",
      "text/plain": [
       "<matplotlib.figure.Figure at 0x2b389a65240>"
      ]
     },
     "metadata": {},
     "output_type": "display_data"
    }
   ],
   "source": [
    "fig = plt.figure(figsize=(6,3.5))\n",
    "\n",
    "fig.canvas.draw()\n",
    "\n",
    "ax1 = fig.add_subplot(211)\n",
    "ax1.errorbar(x1,y1,z1, fmt='--^',ms=14, color = 'b', alpha=1,  ecolor='b',capsize=5, elinewidth=1.5, label = '4L edge' )\n",
    "ax1.errorbar(x1,a1,b1,fmt='--^', ms=14, color = 'gold', alpha=1, ecolor='gold',capsize=8, elinewidth=1.5,   label = '5L edge')\n",
    "\n",
    "ax2 = fig.add_subplot(212)\n",
    "ax2.errorbar(x,y,z,fmt='--s', ms=14, color = 'b', alpha=1, ecolor='b',capsize=5, elinewidth=1.5,   label = '4L area')\n",
    "ax2.errorbar(x,a,b, fmt='--s',ms=14, color = 'gold',  alpha=1, ecolor='gold',capsize=8, elinewidth=1.5, label = '5L area')\n",
    "\n",
    "ax2.yaxis.tick_right()\n",
    "ax2.yaxis.set_label_position(\"right\")\n",
    "\n",
    "ax2.set_xlabel('Exposure time (s)', fontsize = 12)\n",
    "ax2.set_ylabel('RMS roughness (nm)', fontsize = 12)\n",
    "ax1.set_ylabel('Edge heights (nm)', fontsize = 12)\n",
    "ax1.set_xlabel('None')\n",
    "plt.grid('off')\n",
    "\n",
    "plt.setp(ax1.get_yticklabels(), visible=True, fontsize = 12)\n",
    "plt.setp(ax2.get_yticklabels(), visible=True, fontsize = 12)\n",
    "plt.setp(ax1.get_xticklabels(), visible=True, fontsize = 12)\n",
    "plt.setp(ax2.get_xticklabels(), visible=True, fontsize = 12)\n",
    "\n",
    "\n",
    "\n",
    "plt.setp(ax1.set_xlim([-.75,29]))\n",
    "plt.setp(ax2.set_xlim([-.75,29]))\n",
    "\n",
    "ax1.axvspan(5, 7, color='green', alpha=0.5)\n",
    "ax2.axvspan(5, 7, color='green', alpha=0.5)\n",
    "\n",
    "plt.setp(ax1.set_ylim([2,5]))\n",
    "plt.setp(ax2.set_ylim([0,3]))\n",
    "\n",
    "\n",
    "fig.subplots_adjust(hspace=0.0)\n",
    "\n",
    "ax2.legend(bbox_to_anchor=(0.9, 1.2),ncol = 2, fontsize = 12)\n",
    "#ax2.legend(loc='lower right',ncol = 4, fontsize = 12)\n",
    "\n",
    "\n",
    "major_ticks_1 = np.arange(2, 5, 0.5)   \n",
    "ax1.set_yticks(major_ticks_1)   \n",
    "\n",
    "major_ticks_2 = np.arange(0, 3, 0.5)   \n",
    "ax2.set_yticks(major_ticks_2)   \n",
    "\n",
    "\n",
    "\n",
    "plt.savefig(\"Fig_2a.png\",bbox_inches='tight', dpi = 300)\n",
    "\n",
    "\n",
    "plt.show()"
   ]
  },
  {
   "cell_type": "code",
   "execution_count": null,
   "metadata": {
    "collapsed": true
   },
   "outputs": [],
   "source": []
  }
 ],
 "metadata": {
  "kernelspec": {
   "display_name": "Python 3",
   "language": "python",
   "name": "python3"
  },
  "language_info": {
   "codemirror_mode": {
    "name": "ipython",
    "version": 3
   },
   "file_extension": ".py",
   "mimetype": "text/x-python",
   "name": "python",
   "nbconvert_exporter": "python",
   "pygments_lexer": "ipython3",
   "version": "3.5.1"
  }
 },
 "nbformat": 4,
 "nbformat_minor": 0
}
